{
 "cells": [
  {
   "cell_type": "markdown",
   "id": "ba3a86e4-3ef5-41e0-9c76-de22b345eca1",
   "metadata": {},
   "source": [
    "# Kalkulator Indeks Massa tubuh (IMT)\n",
    "Berdasarkan Kementerian Kesehatan Republik Indonesia dan World Health Organization"
   ]
  },
  {
   "cell_type": "code",
   "execution_count": 32,
   "id": "ab7b969d-b527-4580-9d83-0c95371b9e46",
   "metadata": {
    "tags": []
   },
   "outputs": [
    {
     "name": "stdin",
     "output_type": "stream",
     "text": [
      "Siapa nama Anda? Rafid\n",
      "Masukkan berat badan anda dalam kilogram:  53\n",
      "Masukkan tinggi badan anda dalam meter:  1.65\n"
     ]
    },
    {
     "name": "stdout",
     "output_type": "stream",
     "text": [
      "19.467401285583104\n",
      "Rafid, IMT Anda tergolong Normal.\n"
     ]
    }
   ],
   "source": [
    "nama = input(\"Siapa nama Anda?\")\n",
    "\n",
    "berat_badan = float(input(\"Masukkan berat badan anda dalam kilogram: \"))\n",
    "\n",
    "tinggi_badan = float(input(\"Masukkan tinggi badan anda dalam meter: \"))\n",
    "\n",
    "IMT = (berat_badan) / (tinggi_badan * tinggi_badan)\n",
    "\n",
    "print(IMT)\n",
    "\n",
    "if IMT > 0:\n",
    "    if(IMT < 18.5):\n",
    "        print(nama + \", IMT Anda tergolong Underweight.\")\n",
    "    elif (IMT < 23):\n",
    "        print(nama + \", IMT Anda tergolong Normal.\")\n",
    "    elif (IMT < 25):\n",
    "        print(nama + \", IMT Anda tergolong Overweight.\")\n",
    "    elif (IMT < 30):\n",
    "        print(nama + \", IMT Anda tergolong Obesitas Tingkat 1.\")\n",
    "    else:\n",
    "        print(nama + \", IMT Anda tergolong Obesitas Tingkat 2.\")\n",
    "else:\n",
    "    print(\"Periksa kembali data Anda\")"
   ]
  }
 ],
 "metadata": {
  "kernelspec": {
   "display_name": "Python 3 (ipykernel)",
   "language": "python",
   "name": "python3"
  },
  "language_info": {
   "codemirror_mode": {
    "name": "ipython",
    "version": 3
   },
   "file_extension": ".py",
   "mimetype": "text/x-python",
   "name": "python",
   "nbconvert_exporter": "python",
   "pygments_lexer": "ipython3",
   "version": "3.11.5"
  }
 },
 "nbformat": 4,
 "nbformat_minor": 5
}
